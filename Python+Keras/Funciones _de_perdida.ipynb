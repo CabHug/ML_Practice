{
 "cells": [
  {
   "cell_type": "markdown",
   "id": "4cbf5cad-0db5-4636-9f1a-89390719734e",
   "metadata": {},
   "source": [
    "# Funcion de perdida\n",
    "Esta es una funcion encargada de medir que dan desviada esta mi predciccion del valor real o esperado\n",
    "De esta forma la funcion de perdida me permite re ajustar los valores de pesos dentro de mi red neuronal"
   ]
  },
  {
   "cell_type": "code",
   "execution_count": 1,
   "id": "c77675ad-5b7c-4bc4-97d2-447b901a24fe",
   "metadata": {},
   "outputs": [],
   "source": [
    "import numpy as np"
   ]
  },
  {
   "cell_type": "code",
   "execution_count": 2,
   "id": "c58b57eb-d9f6-40a9-a9de-a2ef44df823d",
   "metadata": {},
   "outputs": [],
   "source": [
    "# Funcion de error cuadratico medio MSE\n",
    "\n",
    "def MSE(y_hat, y, derivate = False):\n",
    "    if derivate:\n",
    "        return (y_hat - y)\n",
    "    return np.mean((y_hat - y)**2)"
   ]
  },
  {
   "cell_type": "code",
   "execution_count": 4,
   "id": "6ea65254-d358-4eaa-8b94-398a2f4355f9",
   "metadata": {},
   "outputs": [
    {
     "name": "stdout",
     "output_type": "stream",
     "text": [
      "0.675\n"
     ]
    }
   ],
   "source": [
    "# Test\n",
    "real = np.array([0,0,1,1])\n",
    "predition = np.array([0.9,0.5,0.2,0.0])\n",
    "\n",
    "print(MSE(predition, real))"
   ]
  },
  {
   "cell_type": "markdown",
   "id": "4f07042f-11e1-484e-a03c-4288ba36732b",
   "metadata": {},
   "source": [
    "# Descenso de gradiente\n",
    "Esta es una herrameinta importante al momneto de ajustar u optimizar el error que se optiene de la funcion de perdida\n",
    "el descenso de gradiente lo que busca es el punto mas bajo o el minimo de la dervidad de la funcion de perdida\n",
    "\n",
    "La derivada de una funcion cualquiera me permite encontrar un minimo que sera el punto en donde el error sera el minimo\n",
    "\n",
    "## Learning rate\n",
    "Es un numero que determina los pasos con los cuales el algoritmo de descenso de gradiente vaiterando para encontrar el monr valor posible\n",
    "Este valor tiende a ser muy bajo\n",
    "\n",
    "## El decenso de gradiente con momento\n",
    "Esta es una caracteristica avanzada en el algoritmo de decenso del gradiente ya que permite incluir una aceleracion en el calculo del minimo esta aceleracion permite garantizar que se llegue al verdadero valor minimo"
   ]
  },
  {
   "cell_type": "code",
   "execution_count": null,
   "id": "79960e76-6446-47c4-b70d-8db10d51bbdb",
   "metadata": {},
   "outputs": [],
   "source": []
  }
 ],
 "metadata": {
  "kernelspec": {
   "display_name": "Python [conda env:base] *",
   "language": "python",
   "name": "conda-base-py"
  },
  "language_info": {
   "codemirror_mode": {
    "name": "ipython",
    "version": 3
   },
   "file_extension": ".py",
   "mimetype": "text/x-python",
   "name": "python",
   "nbconvert_exporter": "python",
   "pygments_lexer": "ipython3",
   "version": "3.13.5"
  }
 },
 "nbformat": 4,
 "nbformat_minor": 5
}
